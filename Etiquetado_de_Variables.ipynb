{
  "nbformat": 4,
  "nbformat_minor": 0,
  "metadata": {
    "colab": {
      "name": "Etiquetado de Variables.ipynb",
      "provenance": [],
      "authorship_tag": "ABX9TyM7kNCJk+sHSMxk4jyOq3kO",
      "include_colab_link": true
    },
    "kernelspec": {
      "name": "python3",
      "display_name": "Python 3"
    },
    "language_info": {
      "name": "python"
    }
  },
  "cells": [
    {
      "cell_type": "markdown",
      "metadata": {
        "id": "view-in-github",
        "colab_type": "text"
      },
      "source": [
        "<a href=\"https://colab.research.google.com/github/martinjm81/pythonprojects/blob/statistics/Etiquetado_de_Variables.ipynb\" target=\"_parent\"><img src=\"https://colab.research.google.com/assets/colab-badge.svg\" alt=\"Open In Colab\"/></a>"
      ]
    },
    {
      "cell_type": "code",
      "execution_count": 9,
      "metadata": {
        "colab": {
          "base_uri": "https://localhost:8080/"
        },
        "id": "POkbjZNvjNLo",
        "outputId": "bb1228e5-a3a8-4dea-e8f9-0f7d0ae05658"
      },
      "outputs": [
        {
          "output_type": "stream",
          "name": "stdout",
          "text": [
            "[0, 1, 0, 1, 0, 0, 0, 1]\n"
          ]
        }
      ],
      "source": [
        "genero = [0,1,0,1,0,0,0,1]\n",
        "print(genero)"
      ]
    },
    {
      "cell_type": "code",
      "source": [
        "import pandas as pd\n",
        "genero = pd.cut(genero,bins=[-1,0,1],labels=['Hombre', 'Mujer'])\n",
        "print(genero)\n"
      ],
      "metadata": {
        "colab": {
          "base_uri": "https://localhost:8080/"
        },
        "id": "uGVnw53tjZzP",
        "outputId": "922d934f-af4b-4c4c-b246-34e2a1969771"
      },
      "execution_count": 10,
      "outputs": [
        {
          "output_type": "stream",
          "name": "stdout",
          "text": [
            "['Hombre', 'Mujer', 'Hombre', 'Mujer', 'Hombre', 'Hombre', 'Hombre', 'Mujer']\n",
            "Categories (2, object): ['Hombre' < 'Mujer']\n"
          ]
        }
      ]
    }
  ]
}