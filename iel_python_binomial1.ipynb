{
  "nbformat": 4,
  "nbformat_minor": 0,
  "metadata": {
    "colab": {
      "name": "iel-python-binomial1.ipynb",
      "provenance": [],
      "collapsed_sections": [],
      "authorship_tag": "ABX9TyPOm1t307xiBSttoQYDoH1c",
      "include_colab_link": true
    },
    "kernelspec": {
      "name": "python3",
      "display_name": "Python 3"
    },
    "language_info": {
      "name": "python"
    }
  },
  "cells": [
    {
      "cell_type": "markdown",
      "metadata": {
        "id": "view-in-github",
        "colab_type": "text"
      },
      "source": [
        "<a href=\"https://colab.research.google.com/github/martinjm81/pythonprojects/blob/Maths/iel_python_binomial1.ipynb\" target=\"_parent\"><img src=\"https://colab.research.google.com/assets/colab-badge.svg\" alt=\"Open In Colab\"/></a>"
      ]
    },
    {
      "cell_type": "code",
      "metadata": {
        "colab": {
          "base_uri": "https://localhost:8080/",
          "height": 439
        },
        "id": "N9vwTqVgM4lj",
        "outputId": "caae2d0f-aaf7-47c7-d48e-8041051d2e13"
      },
      "source": [
        "from scipy.stats import binom\n",
        "n=5\n",
        "p=0.2\n",
        "k=40\n",
        "s=1\n",
        "datos = binom.rvs(n = n, p=p, size=k, random_state=s)\n",
        "print(data)\n",
        "import seaborn as sns\n",
        "sns.displot(data,kde=True, color='blue')"
      ],
      "execution_count": 56,
      "outputs": [
        {
          "output_type": "stream",
          "text": [
            "[183 175 184 174 180 179 177 180 182 184 186 177 181 184 175 183 181 182\n",
            " 179 179 179 183 183 183 182 184 184 172 172 184 188 184 178 177 188 179\n",
            " 191 180 179 170]\n"
          ],
          "name": "stdout"
        },
        {
          "output_type": "execute_result",
          "data": {
            "text/plain": [
              "<seaborn.axisgrid.FacetGrid at 0x7f9a6a7d4790>"
            ]
          },
          "metadata": {
            "tags": []
          },
          "execution_count": 56
        },
        {
          "output_type": "display_data",
          "data": {
            "image/png": "[encoded data removed]",
            "text/plain": [
              "<Figure size 360x360 with 1 Axes>"
            ]
          },
          "metadata": {
            "tags": [],
            "needs_background": "light"
          }
        }
      ]
    }
  ]
}