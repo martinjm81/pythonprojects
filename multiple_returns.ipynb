{
  "nbformat": 4,
  "nbformat_minor": 0,
  "metadata": {
    "colab": {
      "name": "multiple-returns.ipynb",
      "provenance": [],
      "authorship_tag": "ABX9TyPTyzH9MTxDLAxc7mnFECrO",
      "include_colab_link": true
    },
    "kernelspec": {
      "name": "python3",
      "display_name": "Python 3"
    },
    "language_info": {
      "name": "python"
    }
  },
  "cells": [
    {
      "cell_type": "markdown",
      "metadata": {
        "id": "view-in-github",
        "colab_type": "text"
      },
      "source": [
        "<a href=\"https://colab.research.google.com/github/martinjm81/pythonprojects/blob/Maths/multiple_returns.ipynb\" target=\"_parent\"><img src=\"https://colab.research.google.com/assets/colab-badge.svg\" alt=\"Open In Colab\"/></a>"
      ]
    },
    {
      "cell_type": "code",
      "metadata": {
        "colab": {
          "base_uri": "https://localhost:8080/"
        },
        "id": "xlkpHJxkYX_7",
        "outputId": "69316efe-2a57-492e-ce94-21c14d6be3e1"
      },
      "source": [
        "def mifuncion(x, y):\n",
        "  return x+1, y+1\n",
        "\n",
        "a,b = mifuncion(5,8)\n",
        "print(\"Resultados\", a, b)"
      ],
      "execution_count": null,
      "outputs": [
        {
          "output_type": "stream",
          "text": [
            "Resultados 6 9\n"
          ],
          "name": "stdout"
        }
      ]
    },
    {
      "cell_type": "code",
      "metadata": {
        "colab": {
          "base_uri": "https://localhost:8080/"
        },
        "id": "Fgh9MsJWZZEA",
        "outputId": "15ad7107-5ba2-44ec-806d-00117d863478"
      },
      "source": [
        "#función de tabulación\n",
        "\n",
        "def tabulador(c1,c2,x1,x2):\n",
        "  return c1+c2*x1, c1+c2*x2\n",
        "\n",
        "y1,y2 = mifuncion(5,10)\n",
        "print(\"Los valores de Y son \", y1, \"y\", y2)"
      ],
      "execution_count": null,
      "outputs": [
        {
          "output_type": "stream",
          "text": [
            "Los valores de Y son  6 y 11\n"
          ],
          "name": "stdout"
        }
      ]
    },
    {
      "cell_type": "code",
      "metadata": {
        "colab": {
          "base_uri": "https://localhost:8080/"
        },
        "id": "hbwhaw4Qa3uN",
        "outputId": "3b141851-fa2c-4e76-a7b3-27703a2a4d07"
      },
      "source": [
        "#funcion de estimación\n",
        "def linearecta(x1,x2,y1,y2):\n",
        "  return y1-(y2-y1)/(x2-x1)*x1, (y2-y1)/(x2-x1)\n",
        "\n",
        "intercepto, pendiente = linearecta(10,14,16,20)\n",
        "print(\"El intercepto es \", intercepto, \"y la pendiente es\", pendiente)\n",
        "print(\"La ecuación es: y = \", intercepto, \"+\", pendiente, \"*\", \"x\")"
      ],
      "execution_count": null,
      "outputs": [
        {
          "output_type": "stream",
          "text": [
            "El intercepto es  6.0 y la pendiente es 1.0\n",
            "La ecuación es: y =  6.0 + 1.0 * x\n"
          ],
          "name": "stdout"
        }
      ]
    },
    {
      "cell_type": "code",
      "metadata": {
        "id": "Iv0e7AWpd6xM"
      },
      "source": [
        "#funcion de estimación con output integrado\n",
        "def linearecta(x1,x2,y1,y2):\n",
        "  a = y1-(y2-y1)/(x2-x1)*x1\n",
        "  b = (y2-y1)/(x2-x1)\n",
        "  return a,b\n",
        "  print(\"El intercepto es \", intercepto, \"y la pendiente es\", pendiente)\n",
        "  print(\"La ecuación es: y = \", intercepto, \"+\", pendiente, \"*\", \"x\")\n",
        "\n",
        "intercepto, pendiente = linearecta(10,14,16,20)"
      ],
      "execution_count": null,
      "outputs": []
    },
    {
      "cell_type": "code",
      "metadata": {
        "colab": {
          "base_uri": "https://localhost:8080/",
          "height": 481
        },
        "id": "p-Zus5z8c9ad",
        "outputId": "fead708a-1fb4-4ac8-8a9c-e614fca460a4"
      },
      "source": [
        "#funcion de estimación interactiva\n",
        "def linearecta():\n",
        "  print(\"ingresa el valor de x1\")\n",
        "  x1 = input()\n",
        "  print(\"ingresa el valor de x2\")\n",
        "  x2 = input()\n",
        "  print(\"ingresa el valor de y1\")\n",
        "  y1 = input()\n",
        "  print(\"ingresa el valor de y2\")\n",
        "  y2= input()\n",
        "  return y1-(y2-y1)/(x2-x1)*x1, (y2-y1)/(x2-x1)\n",
        "\n",
        "intercepto, pendiente = linearecta()\n",
        "print(\"El intercepto es \", intercepto, \"y la pendiente es\", pendiente)\n",
        "print(\"La ecuación es: y = \", intercepto, \"+\", pendiente, \"*\", \"x\")"
      ],
      "execution_count": null,
      "outputs": [
        {
          "output_type": "stream",
          "text": [
            "ingresa el valor de x1\n",
            "11\n",
            "ingresa el valor de x2\n",
            "12\n",
            "ingresa el valor de y1\n",
            "15\n",
            "ingresa el valor de y2\n",
            "11\n"
          ],
          "name": "stdout"
        },
        {
          "output_type": "error",
          "ename": "TypeError",
          "evalue": "ignored",
          "traceback": [
            "\u001b[0;31m---------------------------------------------------------------------------\u001b[0m",
            "\u001b[0;31mTypeError\u001b[0m                                 Traceback (most recent call last)",
            "\u001b[0;32m<ipython-input-21-5e0fb6e0732c>\u001b[0m in \u001b[0;36m<module>\u001b[0;34m()\u001b[0m\n\u001b[1;32m     11\u001b[0m   \u001b[0;32mreturn\u001b[0m \u001b[0my1\u001b[0m\u001b[0;34m-\u001b[0m\u001b[0;34m(\u001b[0m\u001b[0my2\u001b[0m\u001b[0;34m-\u001b[0m\u001b[0my1\u001b[0m\u001b[0;34m)\u001b[0m\u001b[0;34m/\u001b[0m\u001b[0;34m(\u001b[0m\u001b[0mx2\u001b[0m\u001b[0;34m-\u001b[0m\u001b[0mx1\u001b[0m\u001b[0;34m)\u001b[0m\u001b[0;34m*\u001b[0m\u001b[0mx1\u001b[0m\u001b[0;34m,\u001b[0m \u001b[0;34m(\u001b[0m\u001b[0my2\u001b[0m\u001b[0;34m-\u001b[0m\u001b[0my1\u001b[0m\u001b[0;34m)\u001b[0m\u001b[0;34m/\u001b[0m\u001b[0;34m(\u001b[0m\u001b[0mx2\u001b[0m\u001b[0;34m-\u001b[0m\u001b[0mx1\u001b[0m\u001b[0;34m)\u001b[0m\u001b[0;34m\u001b[0m\u001b[0;34m\u001b[0m\u001b[0m\n\u001b[1;32m     12\u001b[0m \u001b[0;34m\u001b[0m\u001b[0m\n\u001b[0;32m---> 13\u001b[0;31m \u001b[0mintercepto\u001b[0m\u001b[0;34m,\u001b[0m \u001b[0mpendiente\u001b[0m \u001b[0;34m=\u001b[0m \u001b[0mlinearecta\u001b[0m\u001b[0;34m(\u001b[0m\u001b[0;34m)\u001b[0m\u001b[0;34m\u001b[0m\u001b[0;34m\u001b[0m\u001b[0m\n\u001b[0m\u001b[1;32m     14\u001b[0m \u001b[0mprint\u001b[0m\u001b[0;34m(\u001b[0m\u001b[0;34m\"El intercepto es \"\u001b[0m\u001b[0;34m,\u001b[0m \u001b[0mintercepto\u001b[0m\u001b[0;34m,\u001b[0m \u001b[0;34m\"y la pendiente es\"\u001b[0m\u001b[0;34m,\u001b[0m \u001b[0mpendiente\u001b[0m\u001b[0;34m)\u001b[0m\u001b[0;34m\u001b[0m\u001b[0;34m\u001b[0m\u001b[0m\n\u001b[1;32m     15\u001b[0m \u001b[0mprint\u001b[0m\u001b[0;34m(\u001b[0m\u001b[0;34m\"La ecuación es: y = \"\u001b[0m\u001b[0;34m,\u001b[0m \u001b[0mintercepto\u001b[0m\u001b[0;34m,\u001b[0m \u001b[0;34m\"+\"\u001b[0m\u001b[0;34m,\u001b[0m \u001b[0mpendiente\u001b[0m\u001b[0;34m,\u001b[0m \u001b[0;34m\"*\"\u001b[0m\u001b[0;34m,\u001b[0m \u001b[0;34m\"x\"\u001b[0m\u001b[0;34m)\u001b[0m\u001b[0;34m\u001b[0m\u001b[0;34m\u001b[0m\u001b[0m\n",
            "\u001b[0;32m<ipython-input-21-5e0fb6e0732c>\u001b[0m in \u001b[0;36mlinearecta\u001b[0;34m()\u001b[0m\n\u001b[1;32m      9\u001b[0m   \u001b[0mprint\u001b[0m\u001b[0;34m(\u001b[0m\u001b[0;34m\"ingresa el valor de y2\"\u001b[0m\u001b[0;34m)\u001b[0m\u001b[0;34m\u001b[0m\u001b[0;34m\u001b[0m\u001b[0m\n\u001b[1;32m     10\u001b[0m   \u001b[0my2\u001b[0m\u001b[0;34m=\u001b[0m \u001b[0minput\u001b[0m\u001b[0;34m(\u001b[0m\u001b[0;34m)\u001b[0m\u001b[0;34m\u001b[0m\u001b[0;34m\u001b[0m\u001b[0m\n\u001b[0;32m---> 11\u001b[0;31m   \u001b[0;32mreturn\u001b[0m \u001b[0my1\u001b[0m\u001b[0;34m-\u001b[0m\u001b[0;34m(\u001b[0m\u001b[0my2\u001b[0m\u001b[0;34m-\u001b[0m\u001b[0my1\u001b[0m\u001b[0;34m)\u001b[0m\u001b[0;34m/\u001b[0m\u001b[0;34m(\u001b[0m\u001b[0mx2\u001b[0m\u001b[0;34m-\u001b[0m\u001b[0mx1\u001b[0m\u001b[0;34m)\u001b[0m\u001b[0;34m*\u001b[0m\u001b[0mx1\u001b[0m\u001b[0;34m,\u001b[0m \u001b[0;34m(\u001b[0m\u001b[0my2\u001b[0m\u001b[0;34m-\u001b[0m\u001b[0my1\u001b[0m\u001b[0;34m)\u001b[0m\u001b[0;34m/\u001b[0m\u001b[0;34m(\u001b[0m\u001b[0mx2\u001b[0m\u001b[0;34m-\u001b[0m\u001b[0mx1\u001b[0m\u001b[0;34m)\u001b[0m\u001b[0;34m\u001b[0m\u001b[0;34m\u001b[0m\u001b[0m\n\u001b[0m\u001b[1;32m     12\u001b[0m \u001b[0;34m\u001b[0m\u001b[0m\n\u001b[1;32m     13\u001b[0m \u001b[0mintercepto\u001b[0m\u001b[0;34m,\u001b[0m \u001b[0mpendiente\u001b[0m \u001b[0;34m=\u001b[0m \u001b[0mlinearecta\u001b[0m\u001b[0;34m(\u001b[0m\u001b[0;34m)\u001b[0m\u001b[0;34m\u001b[0m\u001b[0;34m\u001b[0m\u001b[0m\n",
            "\u001b[0;31mTypeError\u001b[0m: unsupported operand type(s) for -: 'str' and 'str'"
          ]
        }
      ]
    }
  ]
}