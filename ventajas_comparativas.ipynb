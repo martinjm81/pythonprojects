{
  "nbformat": 4,
  "nbformat_minor": 0,
  "metadata": {
    "colab": {
      "name": "ventajas-comparativas.ipynb",
      "provenance": [],
      "authorship_tag": "ABX9TyPVG6xcYBO+E8nOwGnu4k8A",
      "include_colab_link": true
    },
    "kernelspec": {
      "name": "python3",
      "display_name": "Python 3"
    },
    "language_info": {
      "name": "python"
    }
  },
  "cells": [
    {
      "cell_type": "markdown",
      "metadata": {
        "id": "view-in-github",
        "colab_type": "text"
      },
      "source": [
        "<a href=\"https://colab.research.google.com/github/martinjm81/pythonprojects/blob/Economia/ventajas_comparativas.ipynb\" target=\"_parent\"><img src=\"https://colab.research.google.com/assets/colab-badge.svg\" alt=\"Open In Colab\"/></a>"
      ]
    },
    {
      "cell_type": "code",
      "metadata": {
        "id": "VJggSpwoYei7"
      },
      "source": [
        "#Automatización, interactividad y generalización"
      ],
      "execution_count": null,
      "outputs": []
    },
    {
      "cell_type": "code",
      "metadata": {
        "colab": {
          "base_uri": "https://localhost:8080/"
        },
        "id": "wuT6eIdqOZ9a",
        "outputId": "155cec15-b5f6-49de-8059-6afeed731fe4"
      },
      "source": [
        "peru_cobre = 10\n",
        "peru_arroz = 4\n",
        "china_cobre = 1\n",
        "china_arroz = 15 \n",
        "\n",
        "import numpy as np\n",
        "matriz = np.array([[peru_cobre, peru_arroz],[china_cobre,china_arroz]])\n",
        "print(matriz)"
      ],
      "execution_count": 30,
      "outputs": [
        {
          "output_type": "stream",
          "text": [
            "[[10  4]\n",
            " [ 1 15]]\n"
          ],
          "name": "stdout"
        }
      ]
    },
    {
      "cell_type": "code",
      "metadata": {
        "colab": {
          "base_uri": "https://localhost:8080/"
        },
        "id": "5lJx_2_PT-y5",
        "outputId": "53402780-04cf-4f75-8ece-af60fe342e08"
      },
      "source": [
        "import pandas as pd\n",
        "matriz = pd.DataFrame(matriz)\n",
        "matriz.columns = ['Cobre', 'Arroz']\n",
        "matriz.index = ['Perú', 'China']\n",
        "print(matriz)"
      ],
      "execution_count": 29,
      "outputs": [
        {
          "output_type": "stream",
          "text": [
            "       Cobre  Arroz\n",
            "Perú      10      4\n",
            "China      1     15\n"
          ],
          "name": "stdout"
        }
      ]
    },
    {
      "cell_type": "code",
      "metadata": {
        "colab": {
          "base_uri": "https://localhost:8080/"
        },
        "id": "NDRIuEGrUxp4",
        "outputId": "b817e940-3ae5-4418-ca33-d24eb528c317"
      },
      "source": [
        "#Determinación de la ventaja absoluta\n",
        "ventaja_peru_cobre = peru_cobre - china_cobre\n",
        "ventaja_peru_arroz = peru_arroz - china_arroz\n",
        "print(\"la ventaja absoluta de peru en cobre es \", ventaja_peru_cobre)\n",
        "print(\"la ventaja absoluta de peru en arroz es \", ventaja_peru_arroz)"
      ],
      "execution_count": 28,
      "outputs": [
        {
          "output_type": "stream",
          "text": [
            "la ventaja absoluta de peru en cobre es  9\n",
            "la ventaja absoluta de peru en arroz es  -11\n"
          ],
          "name": "stdout"
        }
      ]
    },
    {
      "cell_type": "code",
      "metadata": {
        "colab": {
          "base_uri": "https://localhost:8080/"
        },
        "id": "ycXXjbh0VVKm",
        "outputId": "122853d3-ffff-47dd-a69c-148a7ecac121"
      },
      "source": [
        "#automatización de la ventaja absoluta\n",
        "if peru_cobre > china_cobre:\n",
        "  print(\"Perú tiene ventaja absoluta en cobre y \")\n",
        "else:\n",
        "  print(\"China tiene ventaja absoluta en cobre y\")\n",
        "if peru_arroz > china_arroz:\n",
        "  print(\"Perú tiene ventaja absoluta en arroz\")\n",
        "else:\n",
        "  print(\"China tiene ventaja absoluta en arroz\")"
      ],
      "execution_count": 27,
      "outputs": [
        {
          "output_type": "stream",
          "text": [
            "Perú tiene ventaja absoluta en cobre y \n",
            "China tiene ventaja absoluta en arroz\n"
          ],
          "name": "stdout"
        }
      ]
    },
    {
      "cell_type": "code",
      "metadata": {
        "colab": {
          "base_uri": "https://localhost:8080/"
        },
        "id": "d_SrD2guWvCC",
        "outputId": "3afdcc07-43f4-4181-ea1a-89c70ff9a206"
      },
      "source": [
        "#recapitulando con imputación\n",
        "print(\"Por favor, ingrese los siguientes datos: \")\n",
        "peru_cobre = input(\"¿Cuánto cobre produce Perú? \")\n",
        "china_cobre = input(\"¿Cuánto cobre produce China? \")\n",
        "peru_arroz = input(\"¿Cuánto arroz produce Perú? \")\n",
        "china_arroz = input(\"¿Cuánto arroz produce China? \")\n",
        "\n",
        "import numpy as np\n",
        "import pandas as pd\n",
        "\n",
        "matriz = np.array([[peru_cobre, peru_arroz],[china_cobre,china_arroz]])\n",
        "matriz = pd.DataFrame(matriz)\n",
        "matriz.columns = ['Cobre', 'Arroz']\n",
        "matriz.index = ['Perú', 'China']\n",
        "print(\"__________________________________\")\n",
        "print(\"La matriz de producción es: \")\n",
        "print(matriz)\n",
        "print(\"__________________________________\")\n",
        "print(\"De lo cual se concluye que: \")\n",
        "\n",
        "if peru_cobre > china_cobre:\n",
        "  print(\"1) Perú tiene ventaja absoluta en cobre y \")\n",
        "else:\n",
        "  print(\"1) China tiene ventaja absoluta en cobre y\")\n",
        "if peru_arroz > china_arroz:\n",
        "  print(\"2) Perú tiene ventaja absoluta en arroz\")\n",
        "else:\n",
        "  print(\"2) China tiene ventaja absoluta en arroz\")"
      ],
      "execution_count": 38,
      "outputs": [
        {
          "output_type": "stream",
          "text": [
            "Por favor, ingrese los siguientes datos: \n",
            "¿Cuánto cobre produce Perú? 14\n",
            "¿Cuánto cobre produce China? 12\n",
            "¿Cuánto arroz produce Perú? 20\n",
            "¿Cuánto arroz produce China? 400\n",
            "__________________________________\n",
            "La matriz de producción es: \n",
            "      Cobre Arroz\n",
            "Perú     14    20\n",
            "China    12   400\n",
            "__________________________________\n",
            "De lo cual se concluye que: \n",
            "1) Perú tiene ventaja absoluta en cobre y \n",
            "2) China tiene ventaja absoluta en arroz\n"
          ],
          "name": "stdout"
        }
      ]
    },
    {
      "cell_type": "code",
      "metadata": {
        "id": "MThWF5COYsTI"
      },
      "source": [
        "#Convirtiendolo en un programa\n",
        "\n",
        "def ventajas():\n",
        "  print(\"Por favor, ingrese los siguientes datos: \")\n",
        "  peru_cobre = input(\"¿Cuánto cobre produce Perú? \")\n",
        "  china_cobre = input(\"¿Cuánto cobre produce China? \")\n",
        "  peru_arroz = input(\"¿Cuánto arroz produce Perú? \")\n",
        "  china_arroz = input(\"¿Cuánto arroz produce China? \")\n",
        "  import numpy as np\n",
        "  import pandas as pd\n",
        "\n",
        "  matriz = np.array([[peru_cobre, peru_arroz],[china_cobre,china_arroz]])\n",
        "  matriz = pd.DataFrame(matriz)\n",
        "  matriz.columns = ['Cobre', 'Arroz']\n",
        "  matriz.index = ['Perú', 'China']\n",
        "  print(\"__________________________________\")\n",
        "  print(\"La matriz de producción es: \")\n",
        "  print(matriz)\n",
        "  print(\"__________________________________\")\n",
        "  print(\"De lo cual se concluye que: \")\n",
        "\n",
        "  if peru_cobre > china_cobre:\n",
        "    print(\"1) Perú tiene ventaja absoluta en cobre y \")\n",
        "  else:\n",
        "    print(\"1) China tiene ventaja absoluta en cobre y\")\n",
        "  if peru_arroz > china_arroz:\n",
        "    print(\"2) Perú tiene ventaja absoluta en arroz\")\n",
        "  else:\n",
        "    print(\"2) China tiene ventaja absoluta en arroz\")"
      ],
      "execution_count": 39,
      "outputs": []
    },
    {
      "cell_type": "code",
      "metadata": {
        "colab": {
          "base_uri": "https://localhost:8080/"
        },
        "id": "cDp-OCWtY5p_",
        "outputId": "cbf92dbd-7ad6-42ed-be8f-13034bb6118d"
      },
      "source": [
        "ventajas()\n"
      ],
      "execution_count": 40,
      "outputs": [
        {
          "output_type": "stream",
          "text": [
            "Por favor, ingrese los siguientes datos: \n",
            "¿Cuánto cobre produce Perú? 13\n",
            "¿Cuánto cobre produce China? 12\n",
            "¿Cuánto arroz produce Perú? 20\n",
            "¿Cuánto arroz produce China? 100\n",
            "__________________________________\n",
            "La matriz de producción es: \n",
            "      Cobre Arroz\n",
            "Perú     13    20\n",
            "China    12   100\n",
            "__________________________________\n",
            "De lo cual se concluye que: \n",
            "1) Perú tiene ventaja absoluta en cobre y \n",
            "2) Perú tiene ventaja absoluta en arroz\n"
          ],
          "name": "stdout"
        }
      ]
    },
    {
      "cell_type": "code",
      "metadata": {
        "id": "eRSIEggVZ53o"
      },
      "source": [
        "#Generalizando el programa:\n",
        "def ventajas():\n",
        "  print(\"Bienvenidos al programa de determinación de ventajas absolutas del comercio internacional\")\n",
        "  print(\"Por favor, ingrese los siguientes datos: \")\n",
        "  pais1 = input(\"escribe el nombre del país local: \")\n",
        "  pais2 = input(\"Escribe el nombre del país competidor: \")\n",
        "  producto1 = input(\"Escribe un bien que produzcan ambos países: \")\n",
        "  producto2 = input(\"Ahora escribe otro bien que produzcan ambos países: \")\n",
        "  pais1_producto1 = input(\"¿Cuánto cobre produce País1? \")\n",
        "  pais2_producto1 = input(\"¿Cuánto cobre produce País2? \")\n",
        "  pais1_producto2 = input(\"¿Cuánto arroz produce País1? \")\n",
        "  pais2_producto2 = input(\"¿Cuánto arroz produce País2? \")\n",
        "  import numpy as np\n",
        "  import pandas as pd\n",
        "\n",
        "  matriz = np.array([[pais1_producto1, pais1_producto2],[pais1_producto1,pais1_producto2]])\n",
        "  matriz = pd.DataFrame(matriz)\n",
        "  matriz.columns = ['producto1', 'producto2']\n",
        "  matriz.index = ['Pais1', 'pais2']\n",
        "  print(\"__________________________________\")\n",
        "  print(\"La matriz de producción es: \")\n",
        "  print(matriz)\n",
        "  print(\"__________________________________\")\n",
        "  print(\"De lo cual se concluye que: \")\n",
        "\n",
        "  if pais1_producto1 > pais2_producto1:\n",
        "    print(\"1) Pais1 tiene ventaja absoluta en producto1 y \")\n",
        "  else:\n",
        "    print(\"1) Pais2 tiene ventaja absoluta en producto2 y\")\n",
        "  if pais1_producto2 > pais2_producto2:\n",
        "    print(\"2) Pais1 tiene ventaja absoluta en producto1\")\n",
        "  else:\n",
        "    print(\"2) Pais2 tiene ventaja absoluta en producto2\")"
      ],
      "execution_count": 43,
      "outputs": []
    },
    {
      "cell_type": "code",
      "metadata": {
        "colab": {
          "base_uri": "https://localhost:8080/"
        },
        "id": "8kgsJHvRbX64",
        "outputId": "e4497a3f-45e3-44d4-bec8-39f1a0c92cfe"
      },
      "source": [
        "ventajas()\n"
      ],
      "execution_count": 44,
      "outputs": [
        {
          "output_type": "stream",
          "text": [
            "Bienvenidos al programa de determinación de ventajas absolutas del comercio internacional\n",
            "Por favor, ingrese los siguientes datos: \n",
            "escribe el nombre del país local: chile\n",
            "Escribe el nombre del país competidor: uruguay\n",
            "Escribe un bien que produzcan ambos países: vino\n",
            "Ahora escribe otro bien que produzcan ambos países: carne\n",
            "¿Cuánto cobre produce País1? 20\n",
            "¿Cuánto cobre produce País2? 24\n",
            "¿Cuánto arroz produce País1? 203\n",
            "¿Cuánto arroz produce País2? 22\n",
            "__________________________________\n",
            "La matriz de producción es: \n",
            "      producto1 producto2\n",
            "Pais1        20       203\n",
            "pais2        20       203\n",
            "__________________________________\n",
            "De lo cual se concluye que: \n",
            "1) Pais2 tiene ventaja absoluta en cobre y\n",
            "2) Pais2 tiene ventaja absoluta en arroz\n"
          ],
          "name": "stdout"
        }
      ]
    }
  ]
}