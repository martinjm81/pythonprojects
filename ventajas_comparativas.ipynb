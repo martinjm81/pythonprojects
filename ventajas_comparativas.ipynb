{
  "nbformat": 4,
  "nbformat_minor": 0,
  "metadata": {
    "colab": {
      "name": "ventajas-comparativas.ipynb",
      "provenance": [],
      "authorship_tag": "ABX9TyM5u2XXGATPeheBpXw8FAyz",
      "include_colab_link": true
    },
    "kernelspec": {
      "name": "python3",
      "display_name": "Python 3"
    },
    "language_info": {
      "name": "python"
    }
  },
  "cells": [
    {
      "cell_type": "markdown",
      "metadata": {
        "id": "view-in-github",
        "colab_type": "text"
      },
      "source": [
        "<a href=\"https://colab.research.google.com/github/martinjm81/pythonprojects/blob/Economia/ventajas_comparativas.ipynb\" target=\"_parent\"><img src=\"https://colab.research.google.com/assets/colab-badge.svg\" alt=\"Open In Colab\"/></a>"
      ]
    },
    {
      "cell_type": "code",
      "metadata": {
        "id": "VJggSpwoYei7"
      },
      "source": [
        "#Automatización, interactividad y generalización"
      ],
      "execution_count": null,
      "outputs": []
    },
    {
      "cell_type": "code",
      "metadata": {
        "colab": {
          "base_uri": "https://localhost:8080/"
        },
        "id": "wuT6eIdqOZ9a",
        "outputId": "155cec15-b5f6-49de-8059-6afeed731fe4"
      },
      "source": [
        "peru_cobre = 10\n",
        "peru_arroz = 4\n",
        "china_cobre = 1\n",
        "china_arroz = 15 \n",
        "\n",
        "import numpy as np\n",
        "matriz = np.array([[peru_cobre, peru_arroz],[china_cobre,china_arroz]])\n",
        "print(matriz)"
      ],
      "execution_count": 30,
      "outputs": [
        {
          "output_type": "stream",
          "text": [
            "[[10  4]\n",
            " [ 1 15]]\n"
          ],
          "name": "stdout"
        }
      ]
    },
    {
      "cell_type": "code",
      "metadata": {
        "colab": {
          "base_uri": "https://localhost:8080/"
        },
        "id": "5lJx_2_PT-y5",
        "outputId": "53402780-04cf-4f75-8ece-af60fe342e08"
      },
      "source": [
        "import pandas as pd\n",
        "matriz = pd.DataFrame(matriz)\n",
        "matriz.columns = ['Cobre', 'Arroz']\n",
        "matriz.index = ['Perú', 'China']\n",
        "print(matriz)"
      ],
      "execution_count": 29,
      "outputs": [
        {
          "output_type": "stream",
          "text": [
            "       Cobre  Arroz\n",
            "Perú      10      4\n",
            "China      1     15\n"
          ],
          "name": "stdout"
        }
      ]
    },
    {
      "cell_type": "code",
      "metadata": {
        "colab": {
          "base_uri": "https://localhost:8080/"
        },
        "id": "NDRIuEGrUxp4",
        "outputId": "b817e940-3ae5-4418-ca33-d24eb528c317"
      },
      "source": [
        "#Determinación de la ventaja absoluta\n",
        "ventaja_peru_cobre = peru_cobre - china_cobre\n",
        "ventaja_peru_arroz = peru_arroz - china_arroz\n",
        "print(\"la ventaja absoluta de peru en cobre es \", ventaja_peru_cobre)\n",
        "print(\"la ventaja absoluta de peru en arroz es \", ventaja_peru_arroz)"
      ],
      "execution_count": 28,
      "outputs": [
        {
          "output_type": "stream",
          "text": [
            "la ventaja absoluta de peru en cobre es  9\n",
            "la ventaja absoluta de peru en arroz es  -11\n"
          ],
          "name": "stdout"
        }
      ]
    },
    {
      "cell_type": "code",
      "metadata": {
        "colab": {
          "base_uri": "https://localhost:8080/"
        },
        "id": "ycXXjbh0VVKm",
        "outputId": "122853d3-ffff-47dd-a69c-148a7ecac121"
      },
      "source": [
        "#automatización de la ventaja absoluta\n",
        "if peru_cobre > china_cobre:\n",
        "  print(\"Perú tiene ventaja absoluta en cobre y \")\n",
        "else:\n",
        "  print(\"China tiene ventaja absoluta en cobre y\")\n",
        "if peru_arroz > china_arroz:\n",
        "  print(\"Perú tiene ventaja absoluta en arroz\")\n",
        "else:\n",
        "  print(\"China tiene ventaja absoluta en arroz\")"
      ],
      "execution_count": 27,
      "outputs": [
        {
          "output_type": "stream",
          "text": [
            "Perú tiene ventaja absoluta en cobre y \n",
            "China tiene ventaja absoluta en arroz\n"
          ],
          "name": "stdout"
        }
      ]
    },
    {
      "cell_type": "code",
      "metadata": {
        "colab": {
          "base_uri": "https://localhost:8080/"
        },
        "id": "d_SrD2guWvCC",
        "outputId": "3afdcc07-43f4-4181-ea1a-89c70ff9a206"
      },
      "source": [
        "#recapitulando con imputación\n",
        "print(\"Por favor, ingrese los siguientes datos: \")\n",
        "peru_cobre = input(\"¿Cuánto cobre produce Perú? \")\n",
        "china_cobre = input(\"¿Cuánto cobre produce China? \")\n",
        "peru_arroz = input(\"¿Cuánto arroz produce Perú? \")\n",
        "china_arroz = input(\"¿Cuánto arroz produce China? \")\n",
        "\n",
        "import numpy as np\n",
        "import pandas as pd\n",
        "\n",
        "matriz = np.array([[peru_cobre, peru_arroz],[china_cobre,china_arroz]])\n",
        "matriz = pd.DataFrame(matriz)\n",
        "matriz.columns = ['Cobre', 'Arroz']\n",
        "matriz.index = ['Perú', 'China']\n",
        "print(\"__________________________________\")\n",
        "print(\"La matriz de producción es: \")\n",
        "print(matriz)\n",
        "print(\"__________________________________\")\n",
        "print(\"De lo cual se concluye que: \")\n",
        "\n",
        "if peru_cobre > china_cobre:\n",
        "  print(\"1) Perú tiene ventaja absoluta en cobre y \")\n",
        "else:\n",
        "  print(\"1) China tiene ventaja absoluta en cobre y\")\n",
        "if peru_arroz > china_arroz:\n",
        "  print(\"2) Perú tiene ventaja absoluta en arroz\")\n",
        "else:\n",
        "  print(\"2) China tiene ventaja absoluta en arroz\")"
      ],
      "execution_count": 38,
      "outputs": [
        {
          "output_type": "stream",
          "text": [
            "Por favor, ingrese los siguientes datos: \n",
            "¿Cuánto cobre produce Perú? 14\n",
            "¿Cuánto cobre produce China? 12\n",
            "¿Cuánto arroz produce Perú? 20\n",
            "¿Cuánto arroz produce China? 400\n",
            "__________________________________\n",
            "La matriz de producción es: \n",
            "      Cobre Arroz\n",
            "Perú     14    20\n",
            "China    12   400\n",
            "__________________________________\n",
            "De lo cual se concluye que: \n",
            "1) Perú tiene ventaja absoluta en cobre y \n",
            "2) China tiene ventaja absoluta en arroz\n"
          ],
          "name": "stdout"
        }
      ]
    },
    {
      "cell_type": "code",
      "metadata": {
        "id": "MThWF5COYsTI"
      },
      "source": [
        "#Convirtiendolo en un programa\n",
        "\n",
        "def ventajas():\n",
        "  print(\"Por favor, ingrese los siguientes datos: \")\n",
        "  peru_cobre = input(\"¿Cuánto cobre produce Perú? \")\n",
        "  china_cobre = input(\"¿Cuánto cobre produce China? \")\n",
        "  peru_arroz = input(\"¿Cuánto arroz produce Perú? \")\n",
        "  china_arroz = input(\"¿Cuánto arroz produce China? \")\n",
        "  import numpy as np\n",
        "  import pandas as pd\n",
        "\n",
        "  matriz = np.array([[peru_cobre, peru_arroz],[china_cobre,china_arroz]])\n",
        "  matriz = pd.DataFrame(matriz)\n",
        "  matriz.columns = ['Cobre', 'Arroz']\n",
        "  matriz.index = ['Perú', 'China']\n",
        "  print(\"__________________________________\")\n",
        "  print(\"La matriz de producción es: \")\n",
        "  print(matriz)\n",
        "  print(\"__________________________________\")\n",
        "  print(\"De lo cual se concluye que: \")\n",
        "\n",
        "  if peru_cobre > china_cobre:\n",
        "    print(\"1) Perú tiene ventaja absoluta en cobre y \")\n",
        "  else:\n",
        "    print(\"1) China tiene ventaja absoluta en cobre y\")\n",
        "  if peru_arroz > china_arroz:\n",
        "    print(\"2) Perú tiene ventaja absoluta en arroz\")\n",
        "  else:\n",
        "    print(\"2) China tiene ventaja absoluta en arroz\")"
      ],
      "execution_count": 39,
      "outputs": []
    },
    {
      "cell_type": "code",
      "metadata": {
        "colab": {
          "base_uri": "https://localhost:8080/"
        },
        "id": "cDp-OCWtY5p_",
        "outputId": "cbf92dbd-7ad6-42ed-be8f-13034bb6118d"
      },
      "source": [
        "ventajas()\n"
      ],
      "execution_count": 40,
      "outputs": [
        {
          "output_type": "stream",
          "text": [
            "Por favor, ingrese los siguientes datos: \n",
            "¿Cuánto cobre produce Perú? 13\n",
            "¿Cuánto cobre produce China? 12\n",
            "¿Cuánto arroz produce Perú? 20\n",
            "¿Cuánto arroz produce China? 100\n",
            "__________________________________\n",
            "La matriz de producción es: \n",
            "      Cobre Arroz\n",
            "Perú     13    20\n",
            "China    12   100\n",
            "__________________________________\n",
            "De lo cual se concluye que: \n",
            "1) Perú tiene ventaja absoluta en cobre y \n",
            "2) Perú tiene ventaja absoluta en arroz\n"
          ],
          "name": "stdout"
        }
      ]
    },
    {
      "cell_type": "code",
      "metadata": {
        "id": "eRSIEggVZ53o"
      },
      "source": [
        "#Generalizando el programa (intento1)\n",
        "def ventajas():\n",
        "  print(\"Bienvenidos al programa de determinación de ventajas absolutas del comercio internacional\")\n",
        "  print(\"Por favor, ingrese los siguientes datos: \")\n",
        "  pais1 = input(\"escribe el nombre del país local: \")\n",
        "  pais2 = input(\"Escribe el nombre del país competidor: \")\n",
        "  producto1 = input(\"Escribe un bien que produzcan ambos países: \")\n",
        "  producto2 = input(\"Ahora escribe otro bien que produzcan ambos países: \")\n",
        "  pais1_producto1 = input(\"¿Cuánto producto1 produce País1? \")\n",
        "  pais2_producto1 = input(\"¿Cuánto producto1 produce País2? \")\n",
        "  pais1_producto2 = input(\"¿Cuánto producto2 produce País1? \")\n",
        "  pais2_producto2 = input(\"¿Cuánto producto2 produce País2? \")\n",
        "  import numpy as np\n",
        "  import pandas as pd\n",
        "\n",
        "  matriz = np.array([[pais1_producto1, pais1_producto2],[pais2_producto1,pais2_producto2]])\n",
        "  matriz = pd.DataFrame(matriz)\n",
        "  matriz.columns = ['producto1', 'producto2']\n",
        "  matriz.index = ['Pais1', 'pais2']\n",
        "  print(\"__________________________________\")\n",
        "  print(\"La matriz de producción es: \")\n",
        "  print(matriz)\n",
        "  print(\"__________________________________\")\n",
        "  print(\"De lo cual se concluye que: \")\n",
        "\n",
        "  if pais1_producto1 > pais2_producto1:\n",
        "    print(\"1) Pais1 tiene ventaja absoluta en producto1 y \")\n",
        "  else:\n",
        "    print(\"1) Pais2 tiene ventaja absoluta en producto2 y\")\n",
        "  if pais1_producto2 > pais2_producto2:\n",
        "    print(\"2) Pais1 tiene ventaja absoluta en producto1\")\n",
        "  else:\n",
        "    print(\"2) Pais2 tiene ventaja absoluta en producto2\")"
      ],
      "execution_count": 53,
      "outputs": []
    },
    {
      "cell_type": "code",
      "metadata": {
        "colab": {
          "base_uri": "https://localhost:8080/"
        },
        "id": "8kgsJHvRbX64",
        "outputId": "a6e6662c-db7c-4140-e560-d44bce9b0d22"
      },
      "source": [
        "ventajas()\n"
      ],
      "execution_count": 54,
      "outputs": [
        {
          "output_type": "stream",
          "text": [
            "Bienvenidos al programa de determinación de ventajas absolutas del comercio internacional\n",
            "Por favor, ingrese los siguientes datos: \n",
            "escribe el nombre del país local: peru\n",
            "Escribe el nombre del país competidor: chile\n",
            "Escribe un bien que produzcan ambos países: vino\n",
            "Ahora escribe otro bien que produzcan ambos países: cobre\n",
            "¿Cuánto producto1 produce País1? 200\n",
            "¿Cuánto producto1 produce País2? 3030\n",
            "¿Cuánto producto2 produce País1? 3000\n",
            "¿Cuánto producto2 produce País2? 333\n",
            "__________________________________\n",
            "La matriz de producción es: \n",
            "      producto1 producto2\n",
            "Pais1       200      3000\n",
            "pais2      3030       333\n",
            "__________________________________\n",
            "De lo cual se concluye que: \n",
            "1) Pais2 tiene ventaja absoluta en producto2 y\n",
            "2) Pais2 tiene ventaja absoluta en producto2\n"
          ],
          "name": "stdout"
        }
      ]
    },
    {
      "cell_type": "code",
      "metadata": {
        "colab": {
          "base_uri": "https://localhost:8080/"
        },
        "id": "AEyKYfWImwfI",
        "outputId": "130ebe97-c467-4a70-992e-54e07d7b612d"
      },
      "source": [
        "pais = {}\n",
        "pais['pais1'] = \"chile\"\n",
        "print(pais['pais1'])"
      ],
      "execution_count": 78,
      "outputs": [
        {
          "output_type": "stream",
          "text": [
            "chile\n"
          ],
          "name": "stdout"
        }
      ]
    },
    {
      "cell_type": "code",
      "metadata": {
        "id": "aiW1heMId5q2"
      },
      "source": [
        "#segundo intento de generalización\n",
        "\n",
        "def ventajas():\n",
        "  print(\"Bienvenidos al programa de determinación de ventajas absolutas del comercio internacional\")\n",
        "  print(\"Por favor, ingrese los siguientes datos: \")\n",
        "  pais = {}\n",
        "  pais['pais1'] = input(\"escribe el nombre del país local: \")\n",
        "  pais['pais2'] = input(\"Escribe el nombre del país competidor: \")\n",
        "  prod = {}\n",
        "  prod['producto1'] = input(\"Escribe un bien que produzcan ambos países: \")\n",
        "  prod['producto2'] = input(\"Ahora escribe otro bien que produzcan ambos países: \")\n",
        "  q = {}\n",
        "  pregunta1 = \"¿Cuánto \" + prod['producto1'] +  \" produce \" + pais['pais1'] + \" ? \"\n",
        "  pregunta2 = \"¿Cuánto \" + prod['producto1'] +  \" produce \" + pais['pais2'] + \" ? \"\n",
        "  pregunta3 = \"¿Cuánto \" + prod['producto2'] +  \" produce \" + pais['pais1'] + \" ? \"\n",
        "  pregunta4 = \"¿Cuánto \" + prod['producto2'] +  \" produce \" + pais['pais2'] + \" ? \"\n",
        "  q['pais1_producto1'] = input(pregunta1)\n",
        "  q['pais2_producto1'] = input(pregunta2)\n",
        "  q['pais1_producto2'] = input(pregunta3)\n",
        "  q['pais2_producto2'] = input(pregunta4)\n",
        "  \n",
        "  import numpy as np\n",
        "  import pandas as pd\n",
        "\n",
        "  matriz = np.array([[q['pais1_producto1'], q['pais1_producto2']],[q['pais2_producto1'],q['pais2_producto2']]])\n",
        "  matriz = pd.DataFrame(matriz)\n",
        "  matriz.columns = [prod['producto1'], prod['producto2']]\n",
        "  matriz.index = [pais['pais1'], pais['pais2']]\n",
        "  print(\"__________________________________\")\n",
        "  print(\"La matriz de producción es: \")\n",
        "  print(matriz)\n",
        "  print(\"__________________________________\")\n",
        "  print(\"De lo cual se concluye que: \")\n",
        "\n",
        "  if q['pais1_producto1'] > q['pais2_producto1']:\n",
        "    print(\"1)\", pais['pais1'], \"tiene ventaja absoluta en\", prod['producto1'], \"y \")\n",
        "  else:\n",
        "    print(\"1)\", pais['pais2'], \"tiene ventaja absoluta en\", prod['producto1'], \"y \")\n",
        "  if q['pais1_producto2'] > q['pais2_producto2']:\n",
        "    print(\"2)\", pais['pais1'], \"tiene ventaja absoluta en\", prod['producto2'], \"y \")\n",
        "  else:\n",
        "    print(\"2)\", pais['pais2'], \"tiene ventaja absoluta en\", prod['producto2'], \"y \")"
      ],
      "execution_count": 96,
      "outputs": []
    },
    {
      "cell_type": "code",
      "metadata": {
        "colab": {
          "base_uri": "https://localhost:8080/"
        },
        "id": "A8HKRb27h2hl",
        "outputId": "f938de32-4c16-4abf-eb43-2c303115a732"
      },
      "source": [
        "ventajas()"
      ],
      "execution_count": 97,
      "outputs": [
        {
          "output_type": "stream",
          "text": [
            "Bienvenidos al programa de determinación de ventajas absolutas del comercio internacional\n",
            "Por favor, ingrese los siguientes datos: \n",
            "escribe el nombre del país local: mexico\n",
            "Escribe el nombre del país competidor: nigeria\n",
            "Escribe un bien que produzcan ambos países: vino\n",
            "Ahora escribe otro bien que produzcan ambos países: autos\n",
            "¿Cuánto vino produce mexico ? 1000\n",
            "¿Cuánto vino produce nigeria ? 20000\n",
            "¿Cuánto autos produce mexico ? 24400\n",
            "¿Cuánto autos produce nigeria ? 2000\n",
            "__________________________________\n",
            "La matriz de producción es: \n",
            "          vino  autos\n",
            "mexico    1000  24400\n",
            "nigeria  20000   2000\n",
            "__________________________________\n",
            "De lo cual se concluye que: \n",
            "1) nigeria tiene ventaja absoluta en vino y \n",
            "2) mexico tiene ventaja absoluta en autos y \n"
          ],
          "name": "stdout"
        }
      ]
    }
  ]
}