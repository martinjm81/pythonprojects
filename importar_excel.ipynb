{
  "nbformat": 4,
  "nbformat_minor": 0,
  "metadata": {
    "colab": {
      "provenance": [],
      "authorship_tag": "ABX9TyM45G/h2z4ewTfAfMfDcMmT",
      "include_colab_link": true
    },
    "kernelspec": {
      "name": "python3",
      "display_name": "Python 3"
    },
    "language_info": {
      "name": "python"
    }
  },
  "cells": [
    {
      "cell_type": "markdown",
      "metadata": {
        "id": "view-in-github",
        "colab_type": "text"
      },
      "source": [
        "<a href=\"https://colab.research.google.com/github/martinjm81/pythonprojects/blob/Econometrics/importar_excel.ipynb\" target=\"_parent\"><img src=\"https://colab.research.google.com/assets/colab-badge.svg\" alt=\"Open In Colab\"/></a>"
      ]
    },
    {
      "cell_type": "code",
      "source": [
        "#paso1: subir manualmente el archivo al entorno de google collab\n",
        "### para subirlo hacer el click en el icono de carpeta y luego dar click en el\n",
        "### en el archivo con la flecha hacia arriba, elegir el archivo de su pc y listo\n",
        "#paso2: utilizar este codigo\n",
        "archivo = '/content/wp-0501-2022-emecep-a.xlsx'\n",
        "import pandas as pd\n",
        "datos = pd.read_excel(archivo, header=2)\n",
        "#datos = datos.iloc[0:]\n",
        "print(datos)\n",
        "\n"
      ],
      "metadata": {
        "colab": {
          "base_uri": "https://localhost:8080/"
        },
        "id": "NWgXq6NaT8Xi",
        "outputId": "5bb69509-5b51-4ef2-c5f8-59d7b998eb0c"
      },
      "execution_count": 50,
      "outputs": [
        {
          "output_type": "stream",
          "name": "stdout",
          "text": [
            "   Unnamed: 0   lformal varlformal lformalprivado varlformalprivado linformal\n",
            "0       Ene16  4649.427   3.400724       3299.065          1.786238      65.6\n",
            "1       Feb16  4652.841   3.393112        3273.91          1.420829      65.5\n",
            "2       Mar16  4962.503   3.847166       3574.361          2.056863      65.2\n",
            "3       Abr16  4868.992   2.482203       3470.443          1.177592      65.1\n",
            "4       May16  4781.135   2.666924       3374.433          1.892807      65.2\n",
            "..        ...       ...        ...            ...               ...       ...\n",
            "84      Ene23  5553.386    2.59761       4039.893           5.17268      n.d.\n",
            "85      Feb23  5490.082   2.354777       3958.981          5.003762      n.d.\n",
            "86      Mar23      n.d.       n.d.           n.d.              n.d.      n.d.\n",
            "87      Abr23      n.d.       n.d.           n.d.              n.d.      n.d.\n",
            "88      May23      n.d.       n.d.           n.d.              n.d.      n.d.\n",
            "\n",
            "[89 rows x 6 columns]\n"
          ]
        }
      ]
    }
  ]
}