{
  "nbformat": 4,
  "nbformat_minor": 0,
  "metadata": {
    "colab": {
      "provenance": [],
      "authorship_tag": "ABX9TyObW3L0sTA8+7FpgYeOCtCM",
      "include_colab_link": true
    },
    "kernelspec": {
      "name": "python3",
      "display_name": "Python 3"
    },
    "language_info": {
      "name": "python"
    }
  },
  "cells": [
    {
      "cell_type": "markdown",
      "metadata": {
        "id": "view-in-github",
        "colab_type": "text"
      },
      "source": [
        "<a href=\"https://colab.research.google.com/github/martinjm81/pythonprojects/blob/statistics/martin(2025)_tabla_freq2.ipynb\" target=\"_parent\"><img src=\"https://colab.research.google.com/assets/colab-badge.svg\" alt=\"Open In Colab\"/></a>"
      ]
    },
    {
      "cell_type": "code",
      "execution_count": 12,
      "metadata": {
        "colab": {
          "base_uri": "https://localhost:8080/",
          "height": 831
        },
        "id": "zNi9JaBt5sCJ",
        "outputId": "5a107e32-d807-450c-d42b-c00dd74873c0"
      },
      "outputs": [
        {
          "output_type": "stream",
          "name": "stdout",
          "text": [
            "Ingrese los datos separados por comas: 10,20,25,45,35,50\n",
            "\n",
            "Variable cuantitativa\n",
            "Escala: Cuantitativa discreta\n",
            "\n",
            "Numero de datos: 6\n",
            "Rango: 40.0\n",
            "Numero de clases (k): 3\n",
            "Amplitud: 14.0\n",
            "\n",
            "Tabla de frecuencias:\n",
            "          Clase  fi  Fi        hi        Hi\n",
            "0  [10.0, 24.0)   2   2  0.333333  0.333333\n",
            "1  [24.0, 38.0)   2   4  0.333333  0.666667\n",
            "2  [38.0, 52.0)   2   6  0.333333  1.000000\n"
          ]
        },
        {
          "output_type": "display_data",
          "data": {
            "text/plain": [
              "<Figure size 640x480 with 1 Axes>"
            ],
            "image/png": "[encoded data removed]"
          },
          "metadata": {}
        },
        {
          "output_type": "stream",
          "name": "stdout",
          "text": [
            "\n",
            "Medidas de posicion:\n",
            "Cuartiles: [21.25 30.   42.5 ]\n",
            "Deciles: [15.  20.  22.5 25.  30.  35.  40.  45.  47.5]\n",
            "Percentiles: [10.5  15.5  20.25 22.75 25.5  30.5  35.5  40.5  45.25 47.75]\n"
          ]
        }
      ],
      "source": [
        "import pandas as pd\n",
        "import numpy as np\n",
        "import matplotlib.pyplot as plt\n",
        "\n",
        "# -------------------------------\n",
        "# 1. Ingreso de datos\n",
        "# -------------------------------\n",
        "datos = input(\"Ingrese los datos separados por comas: \").split(\",\")\n",
        "datos = [d.strip() for d in datos]\n",
        "\n",
        "# Intentamos convertir a numérico\n",
        "datos_num = []\n",
        "es_numerico = True\n",
        "for d in datos:\n",
        "    try:\n",
        "        datos_num.append(float(d))\n",
        "    except:\n",
        "        es_numerico = False\n",
        "        break\n",
        "\n",
        "# -------------------------------\n",
        "# 2. Identificación de variable\n",
        "# -------------------------------\n",
        "if es_numerico:\n",
        "    print(\"\\nVariable cuantitativa\")\n",
        "\n",
        "    # Determinamos si es discreta o continua\n",
        "    if all(float(d).is_integer() for d in datos_num):\n",
        "        print(\"Escala: Cuantitativa discreta\")\n",
        "    else:\n",
        "        print(\"Escala: Cuantitativa continua\")\n",
        "\n",
        "    n = len(datos_num)\n",
        "    rango = max(datos_num) - min(datos_num)\n",
        "    k = int(1 + 3.322 * np.log10(n))  # Regla de Sturges\n",
        "    amplitud = np.ceil(rango / k)\n",
        "\n",
        "    print(f\"\\nNumero de datos: {n}\")\n",
        "    print(f\"Rango: {rango}\")\n",
        "    print(f\"Numero de clases (k): {k}\")\n",
        "    print(f\"Amplitud: {amplitud}\")\n",
        "\n",
        "    # -------------------------------\n",
        "    # 3. Construcción de tabla de frecuencias\n",
        "    # -------------------------------\n",
        "    bins = np.arange(min(datos_num), max(datos_num) + amplitud, amplitud)\n",
        "    clases = pd.cut(datos_num, bins=bins, right=False)\n",
        "    tabla = clases.value_counts().sort_index().reset_index()\n",
        "    tabla.columns = [\"Clase\", \"fi\"]\n",
        "\n",
        "    # Frecuencia acumulada (Fi), relativa (hi), acumulada relativa (Hi)\n",
        "    tabla[\"Fi\"] = tabla[\"fi\"].cumsum()\n",
        "    tabla[\"hi\"] = tabla[\"fi\"] / n\n",
        "    tabla[\"Hi\"] = tabla[\"hi\"].cumsum()\n",
        "\n",
        "    print(\"\\nTabla de frecuencias:\")\n",
        "    print(tabla)\n",
        "\n",
        "    # -------------------------------\n",
        "    # 4. Histograma\n",
        "    # -------------------------------\n",
        "    plt.hist(datos_num, bins=bins, edgecolor=\"black\")\n",
        "    plt.title(\"Histograma\")\n",
        "    plt.xlabel(\"Clases\")\n",
        "    plt.ylabel(\"Frecuencia\")\n",
        "    plt.show()\n",
        "\n",
        "    # -------------------------------\n",
        "    # 5. Medidas de posición\n",
        "    # -------------------------------\n",
        "    print(\"\\nMedidas de posicion:\")\n",
        "    print(\"Cuartiles:\", np.percentile(datos_num, [25, 50, 75]))\n",
        "    print(\"Deciles:\", np.percentile(datos_num, [10*i for i in range(1,10)]))\n",
        "    print(\"Percentiles:\", np.percentile(datos_num, [i for i in range(1,100,10)]))\n",
        "\n",
        "else:\n",
        "    print(\"\\nVariable cualitativa\")\n",
        "    print(\"Escala: Cualitativa nominal u ordinal (según el contexto)\")\n",
        "\n",
        "    n = len(datos)\n",
        "    tabla = pd.Series(datos).value_counts().reset_index()\n",
        "    tabla.columns = [\"Categoria\", \"fi\"]\n",
        "    tabla[\"Fi\"] = tabla[\"fi\"].cumsum()\n",
        "    tabla[\"hi\"] = tabla[\"fi\"] / n\n",
        "    tabla[\"Hi\"] = tabla[\"hi\"].cumsum()\n",
        "\n",
        "    print(\"\\nTabla de frecuencias:\")\n",
        "    print(tabla)\n"
      ]
    }
  ]
}