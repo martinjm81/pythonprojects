{
  "nbformat": 4,
  "nbformat_minor": 0,
  "metadata": {
    "colab": {
      "name": "jm-tensor.ipynb",
      "provenance": [],
      "authorship_tag": "ABX9TyNTZIrhma8e/oXKXf7UA/SV",
      "include_colab_link": true
    },
    "kernelspec": {
      "name": "python3",
      "display_name": "Python 3"
    },
    "language_info": {
      "name": "python"
    }
  },
  "cells": [
    {
      "cell_type": "markdown",
      "metadata": {
        "id": "view-in-github",
        "colab_type": "text"
      },
      "source": [
        "<a href=\"https://colab.research.google.com/github/martinjm81/pythonprojects/blob/Econometrics/jm_tensor.ipynb\" target=\"_parent\"><img src=\"https://colab.research.google.com/assets/colab-badge.svg\" alt=\"Open In Colab\"/></a>"
      ]
    },
    {
      "cell_type": "code",
      "metadata": {
        "colab": {
          "base_uri": "https://localhost:8080/"
        },
        "id": "yGObcU5ETOCL",
        "outputId": "517dc4de-23c1-47bb-bd62-c999f4bd36e3"
      },
      "source": [
        "import tensorflow as tf\n",
        "\n",
        "a = tf.add(3,5)\n",
        "print(a)"
      ],
      "execution_count": null,
      "outputs": [
        {
          "output_type": "stream",
          "text": [
            "tf.Tensor(8, shape=(), dtype=int32)\n"
          ],
          "name": "stdout"
        }
      ]
    },
    {
      "cell_type": "code",
      "metadata": {
        "colab": {
          "base_uri": "https://localhost:8080/"
        },
        "id": "ID9GBVUFaq2e",
        "outputId": "4f05f022-82e3-4d00-bdb2-4898190cc534"
      },
      "source": [
        "x = 2\n",
        "y = 3\n",
        "op1 = tf.add(x,y)\n",
        "op2 = tf.multiply(x,y)\n",
        "op3 = tf.pow(op2,op1)\n",
        "\n",
        "tf.print(op3)\n",
        "print(op3)\n"
      ],
      "execution_count": null,
      "outputs": [
        {
          "output_type": "stream",
          "text": [
            "7776\n",
            "tf.Tensor(7776, shape=(), dtype=int32)\n"
          ],
          "name": "stdout"
        }
      ]
    },
    {
      "cell_type": "code",
      "metadata": {
        "colab": {
          "base_uri": "https://localhost:8080/"
        },
        "id": "Wz4pIHrQb_Bs",
        "outputId": "c2da0300-a2dc-4119-8f70-2cbb67cd579d"
      },
      "source": [
        "(x*y)**(x+y)\n"
      ],
      "execution_count": null,
      "outputs": [
        {
          "output_type": "execute_result",
          "data": {
            "text/plain": [
              "7776"
            ]
          },
          "metadata": {
            "tags": []
          },
          "execution_count": 16
        }
      ]
    },
    {
      "cell_type": "code",
      "metadata": {
        "colab": {
          "base_uri": "https://localhost:8080/"
        },
        "id": "zqG4RwzEb8Uu",
        "outputId": "a2f4d3f6-7a5f-41f9-b65f-ee803de8ceb4"
      },
      "source": [
        "x = 2\n",
        "y = 3\n",
        "op1 = tf.add(x,y)\n",
        "op2 = tf.multiply(x,y)\n",
        "op3 = tf.pow(op2,op1)\n",
        "vacio = tf.multiply(x, op1)\n",
        "\n",
        "tf.print(op3)\n",
        "print(op3)\n"
      ],
      "execution_count": null,
      "outputs": [
        {
          "output_type": "stream",
          "text": [
            "7776\n",
            "tf.Tensor(7776, shape=(), dtype=int32)\n"
          ],
          "name": "stdout"
        }
      ]
    },
    {
      "cell_type": "code",
      "metadata": {
        "id": "VjOOo_YqdBns"
      },
      "source": [
        "import tensorflow as tf\n",
        "tf.enable_eager_execution() #depreciado\n",
        "tf.execution_eagerly()\n",
        "print(tf.add([1,2],[2,1]))"
      ],
      "execution_count": null,
      "outputs": []
    },
    {
      "cell_type": "code",
      "metadata": {
        "id": "vroqGxRxfX_f"
      },
      "source": [
        ""
      ],
      "execution_count": null,
      "outputs": []
    }
  ]
}