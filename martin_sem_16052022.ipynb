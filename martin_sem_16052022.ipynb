{
  "nbformat": 4,
  "nbformat_minor": 0,
  "metadata": {
    "colab": {
      "name": "martin-sem-16052022.ipynb",
      "provenance": [],
      "collapsed_sections": [],
      "authorship_tag": "ABX9TyO/RoY87MXzY/03+PmS+hhT",
      "include_colab_link": true
    },
    "kernelspec": {
      "name": "python3",
      "display_name": "Python 3"
    },
    "language_info": {
      "name": "python"
    }
  },
  "cells": [
    {
      "cell_type": "markdown",
      "metadata": {
        "id": "view-in-github",
        "colab_type": "text"
      },
      "source": [
        "<a href=\"https://colab.research.google.com/github/martinjm81/pythonprojects/blob/main/martin_sem_16052022.ipynb\" target=\"_parent\"><img src=\"https://colab.research.google.com/assets/colab-badge.svg\" alt=\"Open In Colab\"/></a>"
      ]
    },
    {
      "cell_type": "markdown",
      "source": [
        "**Ecuaciones Estructurales en Python** <br>\n",
        "Por: José-Manuel Martin Coronado <br>\n",
        "Instituto de Econometría de Lima | www.institutoeconometria.com"
      ],
      "metadata": {
        "id": "4WeVAsNBML7H"
      }
    },
    {
      "cell_type": "markdown",
      "source": [
        "1) Preparando los paquetes"
      ],
      "metadata": {
        "id": "geqbhf2SMS8M"
      }
    },
    {
      "cell_type": "code",
      "source": [
        "%pip install semopy\n",
        "import os\n",
        "os.getcwd()"
      ],
      "metadata": {
        "id": "TWjsgsBZKOpu"
      },
      "execution_count": null,
      "outputs": []
    },
    {
      "cell_type": "markdown",
      "source": [
        "2) Diseñando el modelo multiecuacional"
      ],
      "metadata": {
        "id": "QxYRiyEtSJcE"
      }
    },
    {
      "cell_type": "markdown",
      "source": [
        "Variables exógenas\n",
        "- inflación esperada\n",
        "- Liquidez\n",
        "- tasas de interés\n",
        "\n",
        "Variables endógenas\n",
        "- Inflación\n",
        "- Actividad Económica\n",
        "\n",
        "Ecuaciones:\n",
        "- actividad economica = f (tasa de interés, liquidez)\n",
        "- inflación = f(actividad economica,  inflación esperada, tasa interés)\n",
        "Donde Actividad Económica es un regresor endógeno\n"
      ],
      "metadata": {
        "id": "D09bWEZTMaY3"
      }
    },
    {
      "cell_type": "code",
      "execution_count": 11,
      "metadata": {
        "id": "wfU2YcpnI_2r"
      },
      "outputs": [],
      "source": [
        "import numpy as np\n",
        "import random\n",
        "random.seed(1)\n",
        "\n",
        "inflación_esperada = np.random.uniform(1,3,30)\n",
        "tasa_interés = np.random.uniform(0,10,30)\n",
        "liquidez = np.random.uniform(10,30,30)\n",
        "\n",
        "#PGD\n",
        "b0 = 2\n",
        "b1 = -0.1\n",
        "b2 = 0.12\n",
        "e1 =  np.random.uniform(0,1,30)\n",
        "g = b0 + b1*tasa_interés + b2*liquidez+e1\n",
        "\n",
        "#PGD\n",
        "b3 = 1\n",
        "b4 = 1.1\n",
        "b5 = 0.9\n",
        "b6 = -0.6\n",
        "e2 = np.random.uniform(0,1,30)\n",
        "inflación = b3 + b4*g + b5*inflación_esperada + b6*tasa_interés + e2\n",
        "\n",
        "import pandas as pd\n",
        "\n",
        "data = pd.DataFrame({'inflación': inflación, 'inflación_e':inflación_esperada, \n",
        "                     'tasa_interés':tasa_interés, 'liquidez':liquidez, 'g': g})"
      ]
    },
    {
      "cell_type": "markdown",
      "source": [
        "3) Se elabora el modelo SEM con el paquete semopy"
      ],
      "metadata": {
        "id": "vunecvZ4R-ek"
      }
    },
    {
      "cell_type": "code",
      "source": [
        "#SEM\n",
        "import semopy as sem\n",
        "from semopy import Model \n",
        "\n",
        "modinf = \"\"\" g  ~ tasa_interés +  liquidez\n",
        "            inflación ~ g + inflación_e + tasa_interés\n",
        "          \"\"\"\n",
        "\n",
        "modinf\n",
        "\n",
        "model = Model(modinf)\n",
        "model.load_dataset(data)\n",
        "\n",
        "model.fit(data)\n",
        "model.inspect()\n",
        "\n",
        "diagrama = sem.semplot(model, \"modelo.png\", engine=\"circo\")\n",
        "\n",
        "from PIL import Image\n",
        "\n",
        "grafico = Image.open(r'/content/modelo.png')\n",
        "grafico.show()\n",
        "model.inspect()\n",
        "diagrama = sem.semplot(model, \"modelo2.png\")"
      ],
      "metadata": {
        "id": "d7Fr6oOFRC0J"
      },
      "execution_count": 12,
      "outputs": []
    }
  ]
}